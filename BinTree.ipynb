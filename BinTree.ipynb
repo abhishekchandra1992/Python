{
 "cells": [
  {
   "cell_type": "code",
   "execution_count": null,
   "metadata": {},
   "outputs": [],
   "source": [
    "class Node:\n",
    "    \"\"\"Node class\"\"\"\n",
    "    def __init__(self,nodeVal):\n",
    "        self.data=nodeVal\n",
    "        self.left=None\n",
    "        self.right=None\n",
    "        \n",
    "class Tree:\n",
    "    \"\"\"Tree Class\"\"\"\n",
    "    def create_node(self,data):\n",
    "        return Node(data)\n",
    "    \n",
    "    def insert(self, node,data,ch):\n",
    "        if node is None:\n",
    "            return self.create_node(data)\n",
    "            \n",
    "        if ch=='L':\n",
    "            return node.left=self.insert(node.left,data,ch)\n",
    "            \n",
    "        if ch=='R':\n",
    "            return node.right=self.insert(node.right,data,ch)\n",
    "        \n"
   ]
  }
 ],
 "metadata": {
  "kernelspec": {
   "display_name": "Python 3",
   "language": "python",
   "name": "python3"
  },
  "language_info": {
   "codemirror_mode": {
    "name": "ipython",
    "version": 3
   },
   "file_extension": ".py",
   "mimetype": "text/x-python",
   "name": "python",
   "nbconvert_exporter": "python",
   "pygments_lexer": "ipython3",
   "version": "3.7.0"
  }
 },
 "nbformat": 4,
 "nbformat_minor": 2
}
